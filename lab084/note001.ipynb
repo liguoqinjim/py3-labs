{
 "cells": [
  {
   "cell_type": "code",
   "id": "initial_id",
   "metadata": {
    "collapsed": true,
    "ExecuteTime": {
     "end_time": "2024-12-09T03:13:52.197511Z",
     "start_time": "2024-12-09T03:13:51.797369Z"
    }
   },
   "source": [
    "import psutil\n",
    "import matplotlib.pyplot as plt\n",
    "from IPython.display import clear_output\n",
    "import time\n",
    "\n",
    "def get_celery_memory(pid):\n",
    "    process = psutil.Process(pid)\n",
    "    return process.memory_info().rss / (1024 * 1024)  # Convert to MB\n",
    "\n",
    "def monitor_memory(pid, duration):\n",
    "    memory_usage = []\n",
    "    start_time = time.time()\n",
    "\n",
    "    try:\n",
    "        while time.time() - start_time < duration:\n",
    "            memory_usage.append(get_celery_memory(pid))\n",
    "            clear_output(wait=True)\n",
    "            plt.plot(memory_usage)\n",
    "            plt.title('Celery Process Memory Usage')\n",
    "            plt.xlabel('Time (s)')\n",
    "            plt.ylabel('Memory Usage (MB)')\n",
    "            plt.show()\n",
    "            time.sleep(1)  # Adjust the interval as needed\n",
    "    except psutil.NoSuchProcess:\n",
    "        print(f\"Process with PID {pid} not found.\")\n",
    "\n"
   ],
   "outputs": [],
   "execution_count": 1
  },
  {
   "metadata": {},
   "cell_type": "code",
   "source": [
    "celery_pid = int(input(\"Enter the Celery process PID: \"))\n",
    "monitor_duration = int(input(\"Enter the monitoring duration (seconds): \"))\n",
    "monitor_memory(celery_pid, monitor_duration)"
   ],
   "id": "b2a469d4271012a7",
   "execution_count": 3,
   "outputs": []
  }
 ],
 "metadata": {
  "kernelspec": {
   "display_name": "py310-labs",
   "language": "python",
   "name": "py310-labs"
  },
  "language_info": {
   "codemirror_mode": {
    "name": "ipython",
    "version": 2
   },
   "file_extension": ".py",
   "mimetype": "text/x-python",
   "name": "python",
   "nbconvert_exporter": "python",
   "pygments_lexer": "ipython2",
   "version": "2.7.6"
  }
 },
 "nbformat": 4,
 "nbformat_minor": 5
}
