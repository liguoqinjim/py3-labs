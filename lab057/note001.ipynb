{
 "cells": [
  {
   "cell_type": "markdown",
   "metadata": {
    "collapsed": false
   },
   "source": [
    "# 计算区域面积"
   ]
  },
  {
   "cell_type": "code",
   "execution_count": 33,
   "metadata": {
    "collapsed": false
   },
   "outputs": [
    {
     "data": {
      "text/plain": [
       "'121.49197598767,31.317317720497;121.49195590769,31.320531430143;121.485811,31.320523;121.485443,31.3'"
      ]
     },
     "execution_count": 33,
     "metadata": {},
     "output_type": "execute_result"
    }
   ],
   "source": [
    "# 读取数据\n",
    "import pandas as pd\n",
    "\n",
    "df = pd.read_csv(\"/Users/li/Workspace/github.com/py3-labs/lab057/data/blocks.csv\")\n",
    "df = df.loc[df['district_name'] == '虹口'].reset_index(drop=True).iloc[0]\n",
    "boards = df['district_board']\n",
    "boards[:100]"
   ]
  },
  {
   "cell_type": "code",
   "execution_count": 1,
   "metadata": {
    "collapsed": false
   },
   "outputs": [
    {
     "ename": "NameError",
     "evalue": "name 'pd' is not defined",
     "output_type": "error",
     "traceback": [
      "\u001b[0;31m---------------------------------------------------------------------------\u001b[0m",
      "\u001b[0;31mNameError\u001b[0m                                 Traceback (most recent call last)",
      "Cell \u001b[0;32mIn[1], line 1\u001b[0m\n\u001b[0;32m----> 1\u001b[0m df \u001b[38;5;241m=\u001b[39m \u001b[43mpd\u001b[49m\u001b[38;5;241m.\u001b[39mread_csv(\u001b[38;5;124m\"\u001b[39m\u001b[38;5;124m/Users/li/Workspace/github.com/py3-labs/lab057/data/blocks.csv\u001b[39m\u001b[38;5;124m\"\u001b[39m)\n\u001b[1;32m      2\u001b[0m df \u001b[38;5;241m=\u001b[39m df\u001b[38;5;241m.\u001b[39mloc[df[\u001b[38;5;124m'\u001b[39m\u001b[38;5;124mdistrict_name\u001b[39m\u001b[38;5;124m'\u001b[39m] \u001b[38;5;241m==\u001b[39m \u001b[38;5;124m'\u001b[39m\u001b[38;5;124m虹口\u001b[39m\u001b[38;5;124m'\u001b[39m]\u001b[38;5;241m.\u001b[39mreset_index(drop\u001b[38;5;241m=\u001b[39m\u001b[38;5;28;01mTrue\u001b[39;00m)\u001b[38;5;241m.\u001b[39miloc[\u001b[38;5;241m0\u001b[39m]\n\u001b[1;32m      3\u001b[0m boards \u001b[38;5;241m=\u001b[39m df[\u001b[38;5;124m'\u001b[39m\u001b[38;5;124mdistrict_board\u001b[39m\u001b[38;5;124m'\u001b[39m]\n",
      "\u001b[0;31mNameError\u001b[0m: name 'pd' is not defined"
     ]
    }
   ],
   "source": [
    "df = pd.read_csv(\"/Users/li/Workspace/github.com/py3-labs/lab057/data/blocks.csv\")\n",
    "df = df.loc[df['district_name'] == '虹口'].reset_index(drop=True).iloc[0]\n",
    "boards = df['district_board']\n",
    "print(boards[:100])\n",
    "\n",
    "from shapely.geometry import Point, Polygon\n",
    "points = [Point(float(x.split(',')[0]), float(x.split(',')[1])) for x in boards.split(';')]\n",
    "polygon = Polygon(points)"
   ]
  },
  {
   "cell_type": "code",
   "execution_count": 43,
   "metadata": {},
   "outputs": [
    {
     "name": "stdout",
     "output_type": "stream",
     "text": [
      "面积01: 0.0022108252296353962\n",
      "面积02: 23341109.950351264\n",
      "面积03: 23341109.983052943\n"
     ]
    },
    {
     "name": "stderr",
     "output_type": "stream",
     "text": [
      "/Users/li/miniconda3/envs/py310-labs/lib/python3.10/site-packages/shapely/ops.py:276: FutureWarning: This function is deprecated. See: https://pyproj4.github.io/pyproj/stable/gotchas.html#upgrading-to-pyproj-2-from-pyproj-1\n",
      "  shell = type(geom.exterior)(zip(*func(*zip(*geom.exterior.coords))))\n"
     ]
    }
   ],
   "source": [
    "# 创建Polygon\n",
    "from shapely.geometry import Point, Polygon\n",
    "from pyproj import Geod\n",
    "import pyproj\n",
    "import shapely.ops as ops\n",
    "from functools import partial\n",
    "\n",
    "# boards用分号split成多个坐标点\n",
    "points = [Point(float(x.split(',')[0]), float(x.split(',')[1])) for x in boards.split(';')]\n",
    "polygon = Polygon(points)\n",
    "# 第一种计算\n",
    "print(\"面积01:\",polygon.area)\n",
    "# 第二种计算\n",
    "geom_area = ops.transform(\n",
    "    partial(\n",
    "        pyproj.transform,\n",
    "        pyproj.Proj(init='EPSG:4326'),\n",
    "        pyproj.Proj(\n",
    "            proj='aea',\n",
    "            lat_1=polygon.bounds[1],\n",
    "            lat_2=polygon.bounds[3]\n",
    "        )\n",
    "    ),\n",
    "    polygon)\n",
    "\n",
    "# Print the area in m^2\n",
    "print(\"面积02:\",geom_area.area)\n",
    "# 第三种计算\n",
    "geod = Geod(ellps=\"WGS84\")\n",
    "polygon = Polygon(points)\n",
    "area = abs(geod.geometry_area_perimeter(polygon)[0])\n",
    "print(\"面积03:\",area)\n",
    "\n"
   ]
  }
 ],
 "metadata": {
  "kernelspec": {
   "display_name": "Python 3",
   "language": "python",
   "name": "python3"
  },
  "language_info": {
   "codemirror_mode": {
    "name": "ipython",
    "version": 3
   },
   "file_extension": ".py",
   "mimetype": "text/x-python",
   "name": "python",
   "nbconvert_exporter": "python",
   "pygments_lexer": "ipython3",
   "version": "3.10.9"
  }
 },
 "nbformat": 4,
 "nbformat_minor": 0
}
