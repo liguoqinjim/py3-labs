{
 "cells": [
  {
   "cell_type": "markdown",
   "metadata": {
    "collapsed": false
   },
   "source": [
    "# 计算区域面积"
   ]
  },
  {
   "cell_type": "code",
   "execution_count": 33,
   "metadata": {
    "collapsed": false
   },
   "outputs": [
    {
     "data": {
      "text/plain": [
       "'121.49197598767,31.317317720497;121.49195590769,31.320531430143;121.485811,31.320523;121.485443,31.3'"
      ]
     },
     "execution_count": 33,
     "metadata": {},
     "output_type": "execute_result"
    }
   ],
   "source": [
    "# 读取数据\n",
    "import pandas as pd\n",
    "\n",
    "df = pd.read_csv(\"/Users/li/Workspace/github.com/py3-labs/lab057/data/blocks.csv\")\n",
    "df = df.loc[df['district_name'] == '虹口'].reset_index(drop=True).iloc[0]\n",
    "boards = df['district_board']\n",
    "boards[:100]"
   ]
  },
  {
   "cell_type": "code",
   "execution_count": 1,
   "metadata": {
    "collapsed": false
   },
   "outputs": [
    {
     "ename": "NameError",
     "evalue": "name 'pd' is not defined",
     "output_type": "error",
     "traceback": [
      "\u001b[0;31m---------------------------------------------------------------------------\u001b[0m",
      "\u001b[0;31mNameError\u001b[0m                                 Traceback (most recent call last)",
      "Cell \u001b[0;32mIn[1], line 1\u001b[0m\n\u001b[0;32m----> 1\u001b[0m df \u001b[38;5;241m=\u001b[39m \u001b[43mpd\u001b[49m\u001b[38;5;241m.\u001b[39mread_csv(\u001b[38;5;124m\"\u001b[39m\u001b[38;5;124m/Users/li/Workspace/github.com/py3-labs/lab057/data/blocks.csv\u001b[39m\u001b[38;5;124m\"\u001b[39m)\n\u001b[1;32m      2\u001b[0m df \u001b[38;5;241m=\u001b[39m df\u001b[38;5;241m.\u001b[39mloc[df[\u001b[38;5;124m'\u001b[39m\u001b[38;5;124mdistrict_name\u001b[39m\u001b[38;5;124m'\u001b[39m] \u001b[38;5;241m==\u001b[39m \u001b[38;5;124m'\u001b[39m\u001b[38;5;124m虹口\u001b[39m\u001b[38;5;124m'\u001b[39m]\u001b[38;5;241m.\u001b[39mreset_index(drop\u001b[38;5;241m=\u001b[39m\u001b[38;5;28;01mTrue\u001b[39;00m)\u001b[38;5;241m.\u001b[39miloc[\u001b[38;5;241m0\u001b[39m]\n\u001b[1;32m      3\u001b[0m boards \u001b[38;5;241m=\u001b[39m df[\u001b[38;5;124m'\u001b[39m\u001b[38;5;124mdistrict_board\u001b[39m\u001b[38;5;124m'\u001b[39m]\n",
      "\u001b[0;31mNameError\u001b[0m: name 'pd' is not defined"
     ]
    }
   ],
   "source": [
    "df = pd.read_csv(\"/Users/li/Workspace/github.com/py3-labs/lab057/data/blocks.csv\")\n",
    "df = df.loc[df['district_name'] == '虹口'].reset_index(drop=True).iloc[0]\n",
    "boards = df['district_board']\n",
    "print(boards[:100])\n",
    "\n",
    "from shapely.geometry import Point, Polygon\n",
    "points = [Point(float(x.split(',')[0]), float(x.split(',')[1])) for x in boards.split(';')]\n",
    "polygon = Polygon(points)"
   ]
  },
  {
   "cell_type": "code",
   "execution_count": 42,
   "metadata": {},
   "outputs": [
    {
     "name": "stdout",
     "output_type": "stream",
     "text": [
      "面积01: 0.0022108252296353962\n"
     ]
    },
    {
     "ename": "CRSError",
     "evalue": "Invalid projection: +init=WGS:84 +type=crs: (Internal Proj Error: proj_create: cannot expand +init=WGS:84 +type=crs)",
     "output_type": "error",
     "traceback": [
      "\u001b[0;31m---------------------------------------------------------------------------\u001b[0m",
      "\u001b[0;31mCRSError\u001b[0m                                  Traceback (most recent call last)",
      "Cell \u001b[0;32mIn[42], line 18\u001b[0m\n\u001b[1;32m     12\u001b[0m \u001b[39mprint\u001b[39m(\u001b[39m\"\u001b[39m\u001b[39m面积01:\u001b[39m\u001b[39m\"\u001b[39m,polygon\u001b[39m.\u001b[39marea)\n\u001b[1;32m     13\u001b[0m \u001b[39m# 第二种计算\u001b[39;00m\n\u001b[1;32m     14\u001b[0m geom_area \u001b[39m=\u001b[39m ops\u001b[39m.\u001b[39mtransform(\n\u001b[1;32m     15\u001b[0m     partial(\n\u001b[1;32m     16\u001b[0m         pyproj\u001b[39m.\u001b[39mtransform,\n\u001b[1;32m     17\u001b[0m         \u001b[39m# pyproj.Proj(init='EPSG:4326'),\u001b[39;00m\n\u001b[0;32m---> 18\u001b[0m         pyproj\u001b[39m.\u001b[39;49mProj(init\u001b[39m=\u001b[39;49m\u001b[39m'\u001b[39;49m\u001b[39mWGS:84\u001b[39;49m\u001b[39m'\u001b[39;49m),\n\u001b[1;32m     19\u001b[0m         pyproj\u001b[39m.\u001b[39mProj(\n\u001b[1;32m     20\u001b[0m             proj\u001b[39m=\u001b[39m\u001b[39m'\u001b[39m\u001b[39maea\u001b[39m\u001b[39m'\u001b[39m,\n\u001b[1;32m     21\u001b[0m             lat_1\u001b[39m=\u001b[39mpolygon\u001b[39m.\u001b[39mbounds[\u001b[39m1\u001b[39m],\n\u001b[1;32m     22\u001b[0m             lat_2\u001b[39m=\u001b[39mpolygon\u001b[39m.\u001b[39mbounds[\u001b[39m3\u001b[39m]\n\u001b[1;32m     23\u001b[0m         )\n\u001b[1;32m     24\u001b[0m     ),\n\u001b[1;32m     25\u001b[0m     polygon)\n\u001b[1;32m     27\u001b[0m \u001b[39m# Print the area in m^2\u001b[39;00m\n\u001b[1;32m     28\u001b[0m \u001b[39mprint\u001b[39m(\u001b[39m\"\u001b[39m\u001b[39m面积02:\u001b[39m\u001b[39m\"\u001b[39m,geom_area\u001b[39m.\u001b[39marea)\n",
      "File \u001b[0;32m~/miniconda3/envs/py310-labs/lib/python3.10/site-packages/pyproj/proj.py:109\u001b[0m, in \u001b[0;36mProj.__init__\u001b[0;34m(self, projparams, preserve_units, **kwargs)\u001b[0m\n\u001b[1;32m     47\u001b[0m \u001b[39mdef\u001b[39;00m \u001b[39m__init__\u001b[39m(\n\u001b[1;32m     48\u001b[0m     \u001b[39mself\u001b[39m, projparams: Optional[Any] \u001b[39m=\u001b[39m \u001b[39mNone\u001b[39;00m, preserve_units: \u001b[39mbool\u001b[39m \u001b[39m=\u001b[39m \u001b[39mTrue\u001b[39;00m, \u001b[39m*\u001b[39m\u001b[39m*\u001b[39mkwargs\n\u001b[1;32m     49\u001b[0m ) \u001b[39m-\u001b[39m\u001b[39m>\u001b[39m \u001b[39mNone\u001b[39;00m:\n\u001b[1;32m     50\u001b[0m \u001b[39m    \u001b[39m\u001b[39m\"\"\"\u001b[39;00m\n\u001b[1;32m     51\u001b[0m \u001b[39m    A Proj class instance is initialized with proj map projection\u001b[39;00m\n\u001b[1;32m     52\u001b[0m \u001b[39m    control parameter key/value pairs. The key/value pairs can\u001b[39;00m\n\u001b[0;32m   (...)\u001b[0m\n\u001b[1;32m    107\u001b[0m \u001b[39m    '116.366 39.867'\u001b[39;00m\n\u001b[1;32m    108\u001b[0m \u001b[39m    \"\"\"\u001b[39;00m\n\u001b[0;32m--> 109\u001b[0m     \u001b[39mself\u001b[39m\u001b[39m.\u001b[39mcrs \u001b[39m=\u001b[39m CRS\u001b[39m.\u001b[39;49mfrom_user_input(projparams, \u001b[39m*\u001b[39;49m\u001b[39m*\u001b[39;49mkwargs)\n\u001b[1;32m    110\u001b[0m     \u001b[39m# make sure units are meters if preserve_units is False.\u001b[39;00m\n\u001b[1;32m    111\u001b[0m     \u001b[39mif\u001b[39;00m \u001b[39mnot\u001b[39;00m preserve_units \u001b[39mand\u001b[39;00m \u001b[39m\"\u001b[39m\u001b[39mfoot\u001b[39m\u001b[39m\"\u001b[39m \u001b[39min\u001b[39;00m \u001b[39mself\u001b[39m\u001b[39m.\u001b[39mcrs\u001b[39m.\u001b[39maxis_info[\u001b[39m0\u001b[39m]\u001b[39m.\u001b[39munit_name:\n\u001b[1;32m    112\u001b[0m         \u001b[39m# ignore export to PROJ string deprecation warning\u001b[39;00m\n",
      "File \u001b[0;32m~/miniconda3/envs/py310-labs/lib/python3.10/site-packages/pyproj/crs/crs.py:501\u001b[0m, in \u001b[0;36mCRS.from_user_input\u001b[0;34m(cls, value, **kwargs)\u001b[0m\n\u001b[1;32m    499\u001b[0m \u001b[39mif\u001b[39;00m \u001b[39misinstance\u001b[39m(value, \u001b[39mcls\u001b[39m):\n\u001b[1;32m    500\u001b[0m     \u001b[39mreturn\u001b[39;00m value\n\u001b[0;32m--> 501\u001b[0m \u001b[39mreturn\u001b[39;00m \u001b[39mcls\u001b[39;49m(value, \u001b[39m*\u001b[39;49m\u001b[39m*\u001b[39;49mkwargs)\n",
      "File \u001b[0;32m~/miniconda3/envs/py310-labs/lib/python3.10/site-packages/pyproj/crs/crs.py:348\u001b[0m, in \u001b[0;36mCRS.__init__\u001b[0;34m(self, projparams, **kwargs)\u001b[0m\n\u001b[1;32m    346\u001b[0m     \u001b[39mself\u001b[39m\u001b[39m.\u001b[39m_local\u001b[39m.\u001b[39mcrs \u001b[39m=\u001b[39m projparams\n\u001b[1;32m    347\u001b[0m \u001b[39melse\u001b[39;00m:\n\u001b[0;32m--> 348\u001b[0m     \u001b[39mself\u001b[39m\u001b[39m.\u001b[39m_local\u001b[39m.\u001b[39mcrs \u001b[39m=\u001b[39m _CRS(\u001b[39mself\u001b[39;49m\u001b[39m.\u001b[39;49msrs)\n",
      "File \u001b[0;32mpyproj/_crs.pyx:2366\u001b[0m, in \u001b[0;36mpyproj._crs._CRS.__init__\u001b[0;34m()\u001b[0m\n",
      "\u001b[0;31mCRSError\u001b[0m: Invalid projection: +init=WGS:84 +type=crs: (Internal Proj Error: proj_create: cannot expand +init=WGS:84 +type=crs)"
     ]
    }
   ],
   "source": [
    "# 创建Polygon\n",
    "from shapely.geometry import Point, Polygon\n",
    "from pyproj import Geod\n",
    "import pyproj\n",
    "import shapely.ops as ops\n",
    "from functools import partial\n",
    "\n",
    "# boards用分号split成多个坐标点\n",
    "points = [Point(float(x.split(',')[0]), float(x.split(',')[1])) for x in boards.split(';')]\n",
    "polygon = Polygon(points)\n",
    "# 第一种计算\n",
    "print(\"面积01:\",polygon.area)\n",
    "# 第二种计算\n",
    "geom_area = ops.transform(\n",
    "    partial(\n",
    "        pyproj.transform,\n",
    "        pyproj.Proj(init='EPSG:4326'),\n",
    "        pyproj.Proj(\n",
    "            proj='aea',\n",
    "            lat_1=polygon.bounds[1],\n",
    "            lat_2=polygon.bounds[3]\n",
    "        )\n",
    "    ),\n",
    "    polygon)\n",
    "\n",
    "# Print the area in m^2\n",
    "print(\"面积02:\",geom_area.area)\n",
    "# 第三种计算\n",
    "geod = Geod(ellps=\"WGS84\")\n",
    "polygon = Polygon(points)\n",
    "area = abs(geod.geometry_area_perimeter(polygon)[0])\n",
    "print(\"面积03:\",area)\n",
    "\n"
   ]
  }
 ],
 "metadata": {
  "kernelspec": {
   "display_name": "Python 3",
   "language": "python",
   "name": "python3"
  },
  "language_info": {
   "codemirror_mode": {
    "name": "ipython",
    "version": 3
   },
   "file_extension": ".py",
   "mimetype": "text/x-python",
   "name": "python",
   "nbconvert_exporter": "python",
   "pygments_lexer": "ipython3",
   "version": "3.10.9"
  }
 },
 "nbformat": 4,
 "nbformat_minor": 0
}
